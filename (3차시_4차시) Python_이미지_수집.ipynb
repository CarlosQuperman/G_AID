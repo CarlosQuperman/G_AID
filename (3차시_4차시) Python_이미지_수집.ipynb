{
  "nbformat": 4,
  "nbformat_minor": 0,
  "metadata": {
    "colab": {
      "provenance": []
    },
    "kernelspec": {
      "name": "python3",
      "display_name": "Python 3"
    },
    "language_info": {
      "name": "python"
    }
  },
  "cells": [
    {
      "cell_type": "markdown",
      "source": [
        "### 데이터 수집하기\n",
        "\n",
        "* 항상 AI 모델 학습을 위해서는 AI 학습을 위한 데이터가 필요하다.\n",
        "* MS의 검색엔진인 Bing을 이용하여\n",
        "* 이미지를 자동으로 수집하고 이를 여러분의 구글 드라이브에 저장하는 과정을 진행해보자!\n",
        "* 우리가 AI 모델을 만들어 활용하는 이유는 많은 문제가 있을 때 이를 빠르고 정확하게 해결하기 위해서이다. 이를 기억하고 실제 현실에서 활용할 수 있을 법한 문제를 해결하는 이미지를 수집해보자. (예 : 다양한 옷 이미지가 있을 때 이를 상의, 하의, 겉옷으로 분류해주는 문제)"
      ],
      "metadata": {
        "id": "oSr5bBRxGD09"
      }
    },
    {
      "cell_type": "markdown",
      "source": [
        "### 요건 참고용\n",
        "\n",
        "https://beausty23.tistory.com/115"
      ],
      "metadata": {
        "id": "T_OYd_MKQmhf"
      }
    },
    {
      "cell_type": "code",
      "source": [
        "!pip install icrawler"
      ],
      "metadata": {
        "id": "7laIH5BDGE65"
      },
      "execution_count": null,
      "outputs": []
    },
    {
      "cell_type": "code",
      "source": [
        "from icrawler.builtin import GoogleImageCrawler, BingImageCrawler\n",
        "\n",
        "# 저장 폴더 지정\n",
        "google_crawler = GoogleImageCrawler(storage={'root_dir': '/content/drive/MyDrive/이미지 분류 연습'},\n",
        "                                    feeder_threads=1,\n",
        "                                    parser_threads=1,\n",
        "                                    downloader_threads=4)\n",
        "# ''안에 원하는 키워드로 최대 10개 이미지 크롤링 및 저장\n",
        "google_crawler.crawl(keyword='', max_num=10)\n",
        "\n",
        "\n"
      ],
      "metadata": {
        "id": "k2MI4NgJGwnh"
      },
      "execution_count": null,
      "outputs": []
    },
    {
      "cell_type": "code",
      "source": [
        "# bing에서 크롤링\n",
        "bing_crawler = BingImageCrawler(downloader_threads=4,\n",
        "                                storage={'root_dir': '/content/drive/MyDrive/이미지 분류 연습2'})\n",
        "bing_crawler.crawl(keyword='', filters=None, offset=0, max_num=100)"
      ],
      "metadata": {
        "id": "9j-QXF2nOa2k"
      },
      "execution_count": null,
      "outputs": []
    },
    {
      "cell_type": "code",
      "source": [
        "# 분류할 type(이미지 분류에서 사용할 보기)을 key_types에 문자열로 저장한다.\n",
        "key_types = '','',''\n",
        "\n",
        "# 드라이브에 사진을 저장할 기본 폴더를 만든 후 이를 경로로 지정한다\n",
        "path = Path('/content/drive/MyDrive/요 이름을 바꿀 것')\n",
        "\n",
        "# 만약 path에 저장된 경로가 없으면 경로를 만들어준다\n",
        "if not path.exists() :\n",
        "  path.mkdir()"
      ],
      "metadata": {
        "id": "MmboKG3-HcIu"
      },
      "execution_count": null,
      "outputs": []
    },
    {
      "cell_type": "code",
      "source": [
        "#o라는 이름으로 key_type을 돌면서\n",
        "for o in key_types :\n",
        "  print(path, o) # 확인용\n",
        "  dest = (path/o) #각각의 키워드에 따라 사진을 저장할 폴더 경로\n",
        "  print(dest) # 확인용\n",
        "  dest.mkdir(exist_ok = True) #폴더가 없으면 폴더를 만들고\n",
        "  #google_crawler = GoogleImageCrawler(storage={'root_dir': dest}, feeder_threads=1,parser_threads=1,downloader_threads=4)\n",
        "  bing_crawler = BingImageCrawler(downloader_threads=4,storage={'root_dir': dest})\n",
        "  #google_crawler.crawl(keyword=o, max_num=200)\n",
        "  bing_crawler.crawl(keyword=o, filters=None, offset=0, max_num=100)\n"
      ],
      "metadata": {
        "id": "pamzmmk_Hqy3"
      },
      "execution_count": null,
      "outputs": []
    }
  ]
}