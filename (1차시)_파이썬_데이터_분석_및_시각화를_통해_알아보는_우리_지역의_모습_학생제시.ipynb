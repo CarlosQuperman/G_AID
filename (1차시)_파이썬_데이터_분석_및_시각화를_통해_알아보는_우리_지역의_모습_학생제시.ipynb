{
  "nbformat": 4,
  "nbformat_minor": 0,
  "metadata": {
    "colab": {
      "provenance": []
    },
    "kernelspec": {
      "name": "python3",
      "display_name": "Python 3"
    },
    "language_info": {
      "name": "python"
    }
  },
  "cells": [
    {
      "cell_type": "markdown",
      "source": [
        "### 인구 분석 및 인구 변화 시각화\n",
        "\n",
        "* 데이터 수집처 : https://jumin.mois.go.kr/\n"
      ],
      "metadata": {
        "id": "GFqCCGlX4biC"
      }
    },
    {
      "cell_type": "code",
      "execution_count": null,
      "metadata": {
        "id": "9yTJqJ1s4I7d"
      },
      "outputs": [],
      "source": [
        "#강원 지역 시군구별 인구 변화 데이터 불러오기\n",
        "\n",
        "import pandas as pd\n",
        "import plotly.express as px\n",
        "\n",
        "kang_pop = pd.read_csv(\"\",encoding='cp949')\n",
        "display(kang_pop.head())\n",
        "display(kang_pop.info())\n",
        "display(kang_pop[''].unique())\n",
        "display(kang_pop.describe())"
      ]
    },
    {
      "cell_type": "code",
      "source": [
        "#강원 지역 시군구별 인구 변화 애니메이션 시각화\n",
        "\n",
        "kang_pop_ani = px.bar(kang_pop,x=\"\",y=\"\",animation_frame=\"\",animation_group=\"행정구역\",color=\"행정구역\")\n",
        "kang_pop_ani"
      ],
      "metadata": {
        "id": "doNLHcvQ4Qxi"
      },
      "execution_count": null,
      "outputs": []
    },
    {
      "cell_type": "code",
      "source": [
        "#경북 지역 시군구별 인구 변화 데이터 불러오기\n",
        "\n",
        "\n",
        "import pandas as pd\n",
        "import plotly.express as px\n",
        "\n",
        "kyung_pop = pd.read_csv(\"\",encoding='cp949')\n",
        "display(kyung_pop.head())\n",
        "display(kyung_pop.info())\n",
        "display(kyung_pop[''].unique())\n",
        "display(kyung_pop.describe())"
      ],
      "metadata": {
        "id": "nJk8eD6t4Olq"
      },
      "execution_count": null,
      "outputs": []
    },
    {
      "cell_type": "code",
      "source": [
        "#경북 지역 시군구별 인구 변화 애니메이션 시각화\n",
        "\n",
        "\n",
        "kyung_pop_ani = px.bar(kyung_pop,x=\"\",y=\"\",animation_frame=\"\",animation_group=\"행정구역\",color=\"행정구역\")\n",
        "kyung_pop_ani"
      ],
      "metadata": {
        "id": "XP7Kgj2f4Uj6"
      },
      "execution_count": null,
      "outputs": []
    }
  ]
}